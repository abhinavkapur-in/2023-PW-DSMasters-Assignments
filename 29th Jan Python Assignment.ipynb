{
 "cells": [
  {
   "cell_type": "markdown",
   "id": "a0958e2f-396e-425f-b340-b21cc4b20262",
   "metadata": {},
   "source": [
    "# ABHINAV KAPUR  (29th Jan Python Assignment Solution)"
   ]
  },
  {
   "cell_type": "markdown",
   "id": "b1edfa4c-1dad-447b-ba07-b816c7e3a6b1",
   "metadata": {},
   "source": [
    "1) Who developed Python programming language?\n",
    "\n",
    "    Ans: Guido van Rossum (a Dutch Programmer)"
   ]
  },
  {
   "cell_type": "markdown",
   "id": "e5c7d70a-afd2-4951-9e77-9dd99827dcd1",
   "metadata": {},
   "source": [
    "2) Which type of Programming does Python support?\n",
    "\n",
    "    Ans: Python is an interpreted programming language, which supports multiple programming paradigms beyond object-oriented, structured, and functional programming."
   ]
  },
  {
   "cell_type": "markdown",
   "id": "1de58eb4-6cbd-4268-b662-bdc97ee0e060",
   "metadata": {},
   "source": [
    "3) Is Python case sensitive when dealing with identifiers?\n",
    "\n",
    "    Ans: Yes"
   ]
  },
  {
   "cell_type": "markdown",
   "id": "c9dad081-a6f2-4a5f-b030-a6dd08e8ffa2",
   "metadata": {},
   "source": [
    "4) What is the correct extension of the Python file?\n",
    "\n",
    "    Ans: .py "
   ]
  },
  {
   "cell_type": "markdown",
   "id": "3702bd3a-25f0-42b9-aaf0-d00c7451d39e",
   "metadata": {},
   "source": [
    "5) Is Python code compiled or interpreted?\n",
    "\n",
    "    Ans: Python code is both compiled and interpreted."
   ]
  },
  {
   "cell_type": "markdown",
   "id": "908c0775-9570-4563-bbf9-1bd70090c2e6",
   "metadata": {},
   "source": [
    "6) Name a few blocks of code used to define in Python language?\n",
    "\n",
    "    Ans: i) Block to define function \n",
    "\n",
    "        def my_function(arg1, arg2):\n",
    "            # code block for function body\n",
    "        return result\n",
    "        \n",
    "    \n",
    "    ii) Code to define conditional block \n",
    "    \n",
    "        if condition1:\n",
    "            # code block for condition1\n",
    "        elif condition2:\n",
    "            # code block for condition2\n",
    "        else:\n",
    "            # code block for other conditions\n",
    "            \n",
    "    \n",
    "    iii) Code for defining Loop block\n",
    "\n",
    "        for item in iterable:\n",
    "            # code block for loop body\n"
   ]
  },
  {
   "cell_type": "markdown",
   "id": "5c1e87f5-b40f-4688-b0f2-6cbef1ac3129",
   "metadata": {},
   "source": [
    "7) State a character used to give single-line comments in python?\n",
    "\n",
    "    Ans: #"
   ]
  },
  {
   "cell_type": "markdown",
   "id": "04e015b7-3eda-4b52-a71a-223a50bbb9b8",
   "metadata": {},
   "source": [
    "8) Mention functions which can help us to find the version of python that we are currently working on?\n",
    "\n",
    "    Ans: sys.version and platform.python_version()"
   ]
  },
  {
   "cell_type": "code",
   "execution_count": 2,
   "id": "7d2cc9e6-e70c-4443-a143-6d8cbcc70d9a",
   "metadata": {},
   "outputs": [
    {
     "data": {
      "text/plain": [
       "'3.10.8 | packaged by conda-forge | (main, Nov 22 2022, 08:26:04) [GCC 10.4.0]'"
      ]
     },
     "execution_count": 2,
     "metadata": {},
     "output_type": "execute_result"
    }
   ],
   "source": [
    "import sys\n",
    "sys.version"
   ]
  },
  {
   "cell_type": "code",
   "execution_count": 3,
   "id": "99f79d84-6d3b-4706-b9bc-ead0a321eb57",
   "metadata": {},
   "outputs": [
    {
     "data": {
      "text/plain": [
       "'3.10.8'"
      ]
     },
     "execution_count": 3,
     "metadata": {},
     "output_type": "execute_result"
    }
   ],
   "source": [
    "import platform\n",
    "platform.python_version()"
   ]
  },
  {
   "cell_type": "markdown",
   "id": "7f61b512-a62b-4f10-9aa6-4ea5fef7a2c0",
   "metadata": {},
   "source": [
    "9) Python supports the creation of anonymous functions at runtime, using a construct called ________________\n",
    "\n",
    "    Ans: lambda"
   ]
  },
  {
   "cell_type": "markdown",
   "id": "2580902a-8e8a-44a7-a7ab-7e5d27cad6a4",
   "metadata": {},
   "source": [
    "10) What does pip stand for python?\n",
    "\n",
    "    Ans: pip is a recursive acronym for “Preferred Installer Program”"
   ]
  },
  {
   "cell_type": "markdown",
   "id": "8484ae30-e8c0-47ac-a1ee-721a16f9a9ff",
   "metadata": {},
   "source": [
    "11) Mention a few built-in functions in python?\n",
    "\n",
    "    Ans: print(), len(), type(), str(), int() etc."
   ]
  },
  {
   "cell_type": "markdown",
   "id": "5aff76c5-bc2d-404b-b574-9a799cf7896d",
   "metadata": {},
   "source": [
    "12) What is the maximum possible length of an identifier in Python?\n",
    "\n",
    "    Ans: 79 characters"
   ]
  },
  {
   "cell_type": "markdown",
   "id": "bc3c3a9d-18ec-459f-bc39-4bf235dc3612",
   "metadata": {},
   "source": [
    "13) What are the benefits of using Python?\n",
    "\n",
    "    Ans: i)   Easy to Learn and Use\n",
    "         ii)  Versatility\n",
    "         iii) Large Standard Library\n",
    "         iv)  Cross-Platform Compatibility\n",
    "         v)   Strong Community Support\n",
    "         vi)  Open Source"
   ]
  },
  {
   "cell_type": "markdown",
   "id": "d9176f98-ffb0-4390-bbb3-bc0cb446a117",
   "metadata": {},
   "source": [
    "14) How is memory managed in Python?\n",
    "\n",
    "    Ans: Memory management in Python is handled automatically by the Python interpreter using a technique called \"garbage collection.\""
   ]
  },
  {
   "cell_type": "markdown",
   "id": "ad3a44c4-2dc1-4c33-9eec-2330df218dad",
   "metadata": {},
   "source": [
    "15) How to install Python on Windows and set path variables?\n",
    "\n",
    "    Ans: i) Download the latest Python installer for Windows from the official Python website.\n",
    "\n",
    "        ii) Run the downloaded installer file and follow the prompts to install Python. Make sure to check the \"Add Python to PATH\" option during the installation.\n",
    "    \n",
    "        iii) Once the installation is complete, open the Command Prompt (search for \"cmd\" in the Start menu).\n",
    "\n",
    "        iv) Type the command \"python\" in the Command Prompt and press Enter. This should launch the Python interpreter and display the Python version information.\n",
    "\n",
    "        v) To set the path variables, right-click on \"This PC\" or \"My Computer\" and select \"Properties\".\n",
    "\n",
    "        vi) Click on \"Advanced system settings\" and then click on the \"Environment Variables\" button.\n",
    "\n",
    "        vii) Under \"User variables\", click \"New\" and enter \"PYTHON_HOME\" as the variable name and the Python installation directory (e.g., \"C:\\Python39\") as the variable value.\n",
    "\n",
    "        viii) Under \"System variables\", locate the \"Path\" variable and click \"Edit\".\n",
    "\n",
    "        ix) Add the following path to the end of the \"Variable value\" field: \"%PYTHON_HOME%;%PYTHON_HOME%\\Scripts;\"\n",
    "\n",
    "        x) Click \"OK\" to close all the windows.\n",
    "\n",
    "        xi) Open a new Command Prompt and type the command \"python\" again."
   ]
  },
  {
   "cell_type": "markdown",
   "id": "bd200ce5-7be8-4f85-99c9-04f4dac2d012",
   "metadata": {},
   "source": [
    "16) Is indentation required Python?\n",
    "\n",
    "    Ans: Yes"
   ]
  }
 ],
 "metadata": {
  "kernelspec": {
   "display_name": "Python 3 (ipykernel)",
   "language": "python",
   "name": "python3"
  },
  "language_info": {
   "codemirror_mode": {
    "name": "ipython",
    "version": 3
   },
   "file_extension": ".py",
   "mimetype": "text/x-python",
   "name": "python",
   "nbconvert_exporter": "python",
   "pygments_lexer": "ipython3",
   "version": "3.10.8"
  }
 },
 "nbformat": 4,
 "nbformat_minor": 5
}
